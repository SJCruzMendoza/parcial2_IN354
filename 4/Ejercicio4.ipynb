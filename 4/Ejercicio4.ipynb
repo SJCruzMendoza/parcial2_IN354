{
 "cells": [
  {
   "cell_type": "code",
   "execution_count": 1,
   "id": "05edbd7e",
   "metadata": {},
   "outputs": [],
   "source": [
    "import random\n",
    "import numpy as np\n",
    "from deap import base, creator, tools, algorithms"
   ]
  },
  {
   "cell_type": "markdown",
   "id": "2c808687",
   "metadata": {},
   "source": [
    "Crea una instancia del objeto Toolbox de la biblioteca DEAP. El Toolbox se utiliza para registrar y organizar las operaciones y componentes necesarios para el algoritmo evolutivo.\n",
    "establece el entorno de trabajo y crea una población inicial de 10 individuos, cada uno con una lista de genes de longitud 5 y un atributo de aptitud para minimización."
   ]
  },
  {
   "cell_type": "code",
   "execution_count": 2,
   "id": "4fbaae75",
   "metadata": {},
   "outputs": [],
   "source": [
    "toolbox = base.Toolbox()\n",
    "n = 5 #longitud degenes\n",
    "#apttitud deindividuos\n",
    "creator.create('FitnessMin', base.Fitness, weights=(-1,))\n",
    "creator.create('Individual', list, fitness=creator.FitnessMin)\n",
    "toolbox.register('Genes', np.random.permutation, n)\n",
    "toolbox.register('Individuals', tools.initIterate, creator.Individual, toolbox.Genes)\n",
    "toolbox.register('Population', tools.initRepeat, list, toolbox.Individuals)\n",
    "\n",
    "pop = toolbox.Population(n=10)"
   ]
  },
  {
   "cell_type": "markdown",
   "id": "eb6048e3",
   "metadata": {},
   "source": [
    "mate =implementa el operador de cruce (crossover) de emparejamiento parcialmente emparejado (PMX) para los individuos. \n",
    "mutate= El cruce PMX se utiliza comúnmente en problemas de optimización combinatoria.\n",
    "realiza una mutación de intercambio de índices en los genes de los individuos. La probabilidad de mutación se establece en indpb=0.1,\n",
    "lo que indica que hay un 10% de probabilidad de que cada índice en el gen se mute.\n",
    "selec=significa que se seleccionan dos individuos al azar del torneo y se elige al mejor de ellos"
   ]
  },
  {
   "cell_type": "code",
   "execution_count": 3,
   "id": "4456ea89",
   "metadata": {},
   "outputs": [],
   "source": [
    "toolbox.register('mate', tools.cxPartialyMatched)\n",
    "toolbox.register('mutate', tools.mutShuffleIndexes, indpb=0.1)\n",
    "toolbox.register('select', tools.selTournament, tournsize=2)\n",
    "\n",
    "dist = [[0, 7, 9, 8, 20],\n",
    "        [7, 0, 10, 4, 11],\n",
    "        [9, 10, 0, 11, 5],\n",
    "        [8, 4, 11, 0, 17],\n",
    "        [20, 11, 5, 17, 0]]"
   ]
  },
  {
   "cell_type": "markdown",
   "id": "443ea6c5",
   "metadata": {},
   "source": [
    "La función calcula la distancia total recorrida por el individuo sumando las distancias entre las ubicaciones consecutivas en el orden especificado por el individuo"
   ]
  },
  {
   "cell_type": "code",
   "execution_count": 4,
   "id": "268f5f15",
   "metadata": {},
   "outputs": [],
   "source": [
    "def distanciacalculada(individual):\n",
    "    total_distance = 0\n",
    "    for i in range(n - 1):\n",
    "        local1 = individual[i]\n",
    "        local2 = individual[i + 1]\n",
    "        distance = dist[local1][local2]\n",
    "        total_distance += distance\n",
    "    return total_distance,"
   ]
  },
  {
   "cell_type": "markdown",
   "id": "2e2c3e78",
   "metadata": {},
   "source": [
    "se utilizará para calcular la aptitud de cada individuo en el algoritmo evolutivo."
   ]
  },
  {
   "cell_type": "code",
   "execution_count": 5,
   "id": "c89cba63",
   "metadata": {},
   "outputs": [],
   "source": [
    "toolbox.register('evaluate', distanciacalculada)"
   ]
  },
  {
   "cell_type": "markdown",
   "id": "59a6f215",
   "metadata": {},
   "source": [
    "guardar los valores de aptitud de un individuo en un contexto específico o para realizar algún tipo de seguimiento o registro durante el proceso de entrenamiento o evaluación de los individuos en un algoritmo evolutivo."
   ]
  },
  {
   "cell_type": "code",
   "execution_count": 6,
   "id": "e9598a6d",
   "metadata": {},
   "outputs": [],
   "source": [
    "def guardaEntrenamineto(individual):\n",
    "    return individual.fitness.values"
   ]
  },
  {
   "cell_type": "markdown",
   "id": "3abb3c8a",
   "metadata": {},
   "source": [
    " se crea una instancia de la clase Statistics de la biblioteca DEAP y se registran algunas estadísticas para su posterior análisis."
   ]
  },
  {
   "cell_type": "code",
   "execution_count": 7,
   "id": "f7363cfe",
   "metadata": {},
   "outputs": [],
   "source": [
    "statistics = tools.Statistics()\n",
    "statistics.register('mean', np.mean)#promedio\n",
    "statistics.register('min', np.min)#minimo\n",
    "statistics.register('max', np.max)#valor maximo"
   ]
  },
  {
   "cell_type": "markdown",
   "id": "297ea77a",
   "metadata": {},
   "source": [
    "el objeto hof para acceder a la mejor solución encontrada, como por ejemplo, para obtener los genes del individuo con mejor aptitud o realizar alguna otra acción específica basada en esta solución óptima."
   ]
  },
  {
   "cell_type": "code",
   "execution_count": 8,
   "id": "b53d8106",
   "metadata": {},
   "outputs": [],
   "source": [
    "hof = tools.HallOfFame(1)"
   ]
  },
  {
   "cell_type": "markdown",
   "id": "e444a088",
   "metadata": {},
   "source": [
    "Este código ejecutará el algoritmo evolutivo utilizando la población inicial pop y las operaciones definidas en el toolbox, y se evolucionará durante 30 generaciones. Durante la ejecución, se registrarán las estadísticas y se mantendrá un registro de la mejor solución encontrada en el objeto hof. Además, se mostrará información detallada en la salida debido al parámetro verbose=True."
   ]
  },
  {
   "cell_type": "code",
   "execution_count": 9,
   "id": "ba6f4244",
   "metadata": {},
   "outputs": [
    {
     "name": "stdout",
     "output_type": "stream",
     "text": [
      "gen\tnevals\tmean\tmin\tmax\n",
      "0  \t10    \t2   \t0  \t4  \n",
      "1  \t6     \t2   \t0  \t4  \n",
      "2  \t9     \t2   \t0  \t4  \n",
      "3  \t8     \t2   \t0  \t4  \n",
      "4  \t10    \t2   \t0  \t4  \n",
      "5  \t9     \t2   \t0  \t4  \n",
      "6  \t6     \t2   \t0  \t4  \n",
      "7  \t9     \t2   \t0  \t4  \n",
      "8  \t10    \t2   \t0  \t4  \n",
      "9  \t8     \t2   \t0  \t4  \n",
      "10 \t6     \t2   \t0  \t4  \n",
      "11 \t8     \t2   \t0  \t4  \n",
      "12 \t8     \t2   \t0  \t4  \n",
      "13 \t9     \t2   \t0  \t4  \n",
      "14 \t8     \t2   \t0  \t4  \n",
      "15 \t8     \t2   \t0  \t4  \n",
      "16 \t10    \t2   \t0  \t4  \n",
      "17 \t8     \t2   \t0  \t4  \n",
      "18 \t4     \t2   \t0  \t4  \n",
      "19 \t6     \t2   \t0  \t4  \n",
      "20 \t8     \t2   \t0  \t4  \n",
      "21 \t8     \t2   \t0  \t4  \n",
      "22 \t10    \t2   \t0  \t4  \n",
      "23 \t6     \t2   \t0  \t4  \n",
      "24 \t10    \t2   \t0  \t4  \n",
      "25 \t7     \t2   \t0  \t4  \n",
      "26 \t7     \t2   \t0  \t4  \n",
      "27 \t8     \t2   \t0  \t4  \n",
      "28 \t8     \t2   \t0  \t4  \n",
      "29 \t8     \t2   \t0  \t4  \n",
      "30 \t10    \t2   \t0  \t4  \n"
     ]
    }
   ],
   "source": [
    "result, log = algorithms.eaSimple(pop,\n",
    "                                  toolbox,\n",
    "                                  cxpb=0.8,\n",
    "                                  mutpb=0.1,\n",
    "                                  stats=statistics,\n",
    "                                  ngen=30,\n",
    "                                  halloffame=hof,\n",
    "                                  verbose=True)"
   ]
  },
  {
   "cell_type": "markdown",
   "id": "7406eaa7",
   "metadata": {},
   "source": [
    "información sobre la última población evolucionada y la mejor solución encontrada. Esto  permitirá analizar los resultados y examinar el rendimiento del algoritmo evolutivo en tu problema específico."
   ]
  },
  {
   "cell_type": "code",
   "execution_count": 10,
   "id": "bedbdd8d",
   "metadata": {},
   "outputs": [
    {
     "name": "stdout",
     "output_type": "stream",
     "text": [
      "[[0, 3, 1, 4, 2], [0, 3, 1, 2, 4], [0, 3, 1, 4, 2], [0, 3, 1, 2, 4], [0, 3, 1, 4, 2], [0, 3, 1, 2, 4], [0, 3, 1, 2, 4], [0, 3, 1, 4, 2], [0, 3, 1, 2, 4], [0, 1, 3, 4, 2]]\n",
      "--------------------------------------hof--------------------------------\n",
      "[[0, 1, 3, 2, 4]]\n"
     ]
    }
   ],
   "source": [
    "print(result)\n",
    "print(\"--------------------------------------hof--------------------------------\")\n",
    "print(hof)"
   ]
  }
 ],
 "metadata": {
  "kernelspec": {
   "display_name": "Python 3 (ipykernel)",
   "language": "python",
   "name": "python3"
  },
  "language_info": {
   "codemirror_mode": {
    "name": "ipython",
    "version": 3
   },
   "file_extension": ".py",
   "mimetype": "text/x-python",
   "name": "python",
   "nbconvert_exporter": "python",
   "pygments_lexer": "ipython3",
   "version": "3.9.16"
  }
 },
 "nbformat": 4,
 "nbformat_minor": 5
}
