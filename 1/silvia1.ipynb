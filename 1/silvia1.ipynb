{
 "cells": [
  {
   "cell_type": "markdown",
   "id": "dc92921d",
   "metadata": {},
   "source": [
    "1. Generar una red neuronal (sin librerias) que utilice el dataset iris con producto punto, errores, y de dos capas."
   ]
  },
  {
   "cell_type": "markdown",
   "id": "d2126681",
   "metadata": {},
   "source": [
    "El objetivo es ajustar los pesos de la red de manera que pueda predecir correctamente la clase de nuevas instancias de datos."
   ]
  },
  {
   "cell_type": "code",
   "execution_count": 3,
   "id": "e33e093c",
   "metadata": {},
   "outputs": [
    {
     "name": "stdout",
     "output_type": "stream",
     "text": [
      "   Id  SepalLengthCm  SepalWidthCm  PetalLengthCm  PetalWidthCm      Species\n",
      "0   1            5.1           3.5            1.4           0.2  Iris-setosa\n",
      "1   2            4.9           3.0            1.4           0.2  Iris-setosa\n",
      "2   3            4.7           3.2            1.3           0.2  Iris-setosa\n",
      "3   4            4.6           3.1            1.5           0.2  Iris-setosa\n",
      "4   5            5.0           3.6            1.4           0.2  Iris-setosa\n"
     ]
    }
   ],
   "source": [
    "import pandas as pd\n",
    "\n",
    "# Lee el archivo CSV\n",
    "data = pd.read_csv('D:\\\\preguntas\\\\1\\iris.csv')\n",
    "\n",
    "# Muestra los primeros registros del DataFrame\n",
    "print(data.head())"
   ]
  },
  {
   "cell_type": "code",
   "execution_count": 26,
   "id": "7160844c",
   "metadata": {},
   "outputs": [
    {
     "name": "stdout",
     "output_type": "stream",
     "text": [
      "      Id  SepalLengthCm  SepalWidthCm  PetalLengthCm  PetalWidthCm  \\\n",
      "0      1            5.1           3.5            1.4           0.2   \n",
      "1      2            4.9           3.0            1.4           0.2   \n",
      "2      3            4.7           3.2            1.3           0.2   \n",
      "3      4            4.6           3.1            1.5           0.2   \n",
      "4      5            5.0           3.6            1.4           0.2   \n",
      "..   ...            ...           ...            ...           ...   \n",
      "145  146            6.7           3.0            5.2           2.3   \n",
      "146  147            6.3           2.5            5.0           1.9   \n",
      "147  148            6.5           3.0            5.2           2.0   \n",
      "148  149            6.2           3.4            5.4           2.3   \n",
      "149  150            5.9           3.0            5.1           1.8   \n",
      "\n",
      "            Species  \n",
      "0       Iris-setosa  \n",
      "1       Iris-setosa  \n",
      "2       Iris-setosa  \n",
      "3       Iris-setosa  \n",
      "4       Iris-setosa  \n",
      "..              ...  \n",
      "145  Iris-virginica  \n",
      "146  Iris-virginica  \n",
      "147  Iris-virginica  \n",
      "148  Iris-virginica  \n",
      "149  Iris-virginica  \n",
      "\n",
      "[150 rows x 6 columns]\n"
     ]
    }
   ],
   "source": [
    "import numpy as np\n",
    "import pandas as pd\n",
    "import seaborn as sns\n",
    "import matplotlib.pyplot as plt\n",
    "from sklearn.model_selection import train_test_split\n",
    "import pandas as pd\n",
    "df = data\n",
    "print(df)"
   ]
  },
  {
   "cell_type": "markdown",
   "id": "df8cb42f",
   "metadata": {},
   "source": [
    " toma una matriz de etiquetas Y y devuelve una matriz codificada,\n",
    " donde cada fila tiene un 1 en la columna correspondiente a la clase \n",
    "representada por la etiqueta y ceros en todas las demás columnas. "
   ]
  },
  {
   "cell_type": "code",
   "execution_count": 19,
   "id": "630cc83b",
   "metadata": {},
   "outputs": [],
   "source": [
    "def metiqueta_mcodficada(Y):\n",
    "    n_col = np.amax(Y) + 1\n",
    "    binarized = np.zeros((len(Y), n_col))\n",
    "    for i in range(len(Y)):\n",
    "        binarized[i, Y[i]] = 1.\n",
    "    return binarized"
   ]
  },
  {
   "cell_type": "markdown",
   "id": "d11e8a0a",
   "metadata": {},
   "source": [
    "toma una matriz codificada Y,\n",
    "busca la columna que tiene el valor 1 en cada fila y \n",
    "crea una nueva matriz que contiene las etiquetas correspondientes a esas columnas."
   ]
  },
  {
   "cell_type": "code",
   "execution_count": 20,
   "id": "cf83c00e",
   "metadata": {},
   "outputs": [],
   "source": [
    "def array_de_etiquetas(Y):\n",
    "    arr = np.zeros((len(Y), 1))\n",
    "\n",
    "    for i in range(len(Y)):\n",
    "        l = layer2[i]\n",
    "        for j in range(len(l)):\n",
    "            if(l[j] == 1):\n",
    "                arr[i] = j+1\n",
    "    return arr"
   ]
  },
  {
   "cell_type": "markdown",
   "id": "92e5fd78",
   "metadata": {},
   "source": [
    "-sigmoid(x): Esta función implementa la función de activación sigmoidal, también conocida como función logística\n",
    "-derivada(x): Esta función calcula la derivada de la función sigmoidal en un punto x.\n",
    "-normalize(X, axis=-1, order=2): Esta función realiza la normalización de un conjunto de datos X. \n",
    "    Toma como entrada X, que puede ser una matriz o un vector, y opcionalmente los argumentos axis y order. "
   ]
  },
  {
   "cell_type": "code",
   "execution_count": 24,
   "id": "9375bb5e",
   "metadata": {},
   "outputs": [],
   "source": [
    "def sigmoid(x):\n",
    "    return 1/(1+np.exp(-x))\n",
    "def derivada(x):\n",
    "    return sigmoid(x)*(1 - sigmoid(x))\n",
    "def normalize(X, axis=-1, order=2):\n",
    "    l2 = np.atleast_1d(np.linalg.norm(X, order, axis))\n",
    "    l2[l2 == 0] = 1\n",
    "    return X / np.expand_dims(l2, axis)\n"
   ]
  },
  {
   "cell_type": "code",
   "execution_count": 28,
   "id": "a2a1ad8e",
   "metadata": {},
   "outputs": [],
   "source": [
    "#Esta línea de código reemplaza los valores en la columna 'Species' del DataFrame df.\n",
    "#Los valores 'Iris-setosa' se reemplazan por 0, 'Iris-virginica' se reemplaza por 1 y 'Iris-versicolor' se reemplaza por 2.\n",
    "#El parámetro inplace=True indica que los cambios se deben realizar en el DataFrame df directamente.\n",
    "\n",
    "df['Species'].replace(['Iris-setosa', 'Iris-virginica', 'Iris-versicolor'], [0, 1, 2], inplace=True)\n",
    " \n",
    "#Se crea una lista llamada columns que contiene los nombres de las columnas que se \n",
    "#utilizarán como características (variables independientes) en el conjunto de datos.\n",
    "columns = ['SepalLengthCm', 'SepalWidthCm', 'PetalLengthCm', 'PetalWidthCm']\n",
    "#Nuevo dataFrame\n",
    "x = pd.DataFrame(df, columns=columns)\n",
    "#Lo normalizamos\n",
    "x = normalize(x.values)\n",
    "\n",
    "columns = ['Species']\n",
    "y = pd.DataFrame(df, columns=columns)\n",
    "y = y.values\n",
    "#La matriz de valores y se aplana en un arreglo unidimensional utilizando el método flatten()\n",
    "y = y.flatten()\n",
    "y = metiqueta_mcodficada(y)\n",
    "#Esta función convierte las etiquetas categóricas en una representación codificada, \n",
    "#utilizando el enfoque de \"one-hot encoding\" (codificación one-hot). \n",
    "#El resultado es un arreglo que representa las etiquetas codificadas"
   ]
  },
  {
   "cell_type": "code",
   "execution_count": 29,
   "id": "f9f8e526",
   "metadata": {},
   "outputs": [
    {
     "name": "stderr",
     "output_type": "stream",
     "text": [
      "C:\\Users\\Progra\\AppData\\Local\\Temp\\ipykernel_14560\\7552734.py:2: RuntimeWarning: overflow encountered in exp\n",
      "  return 1/(1+np.exp(-x))\n"
     ]
    },
    {
     "data": {
      "image/png": "[encoded data removed]",
      "text/plain": [
       "<Figure size 640x480 with 1 Axes>"
      ]
     },
     "metadata": {},
     "output_type": "display_data"
    },
    {
     "name": "stdout",
     "output_type": "stream",
     "text": [
      "Precision 95.23%\n"
     ]
    }
   ],
   "source": [
    "#Esta línea divide los datos de entrada x y las etiquetas \n",
    "#y en conjuntos de entrenamiento (X_train, y_train) y conjunto de prueba (X_test, y_test),\n",
    "#utilizando una proporción de prueba del 33%\n",
    "X_train, X_test, y_train, y_test = train_test_split(x, y, test_size=0.33)\n",
    "    \n",
    "#Weights\n",
    "#Se inicializan los pesos (w0) de la capa de entrada con valores aleatorios entre -1 y 1.\n",
    "#Aquí se asume que hay 4 características en los datos de entrada y se establece\n",
    "#que la capa de entrada tiene 5 neuronas.\n",
    "\n",
    "w0 = 2*np.random.random((4, 5)) - 1 #for input   - 4 inputs, 3 outputs\n",
    "w1 = 2*np.random.random((5, 3)) - 1 #for layer 1 - 5 inputs, 3 outputs\n",
    "\n",
    "#learning rate\n",
    "#Se define la tasa de aprendizaje (n) para el descenso de gradiente. \n",
    "#Este valor determina qué tan rápido se ajustarán los pesos durante el entrenamiento.\n",
    "n = 0.1\n",
    "\n",
    "#Errors - for graph later\n",
    "errors = []\n",
    "\n",
    "#Train\n",
    "for i in range(100000):\n",
    "\n",
    "    #Feed forward\n",
    "    #Calcula las salidas de las capas oculta y de salida\n",
    "    layer0 = X_train\n",
    "    #La función de activación sigmoidal se aplica a las salidas de ambas capas.\n",
    "    layer1 = sigmoid(np.dot(layer0, w0))\n",
    "    layer2 = sigmoid(np.dot(layer1, w1))\n",
    "\n",
    "    #Back propagation using gradient descent\n",
    "    layer2_error = y_train - layer2\n",
    "    layer2_delta = layer2_error * derivada(layer2)\n",
    "    \n",
    "    layer1_error = layer2_delta.dot(w1.T)\n",
    "    layer1_delta = layer1_error * derivada(layer1)\n",
    "    \n",
    "    w1 += layer1.T.dot(layer2_delta) * n\n",
    "    w0 += layer0.T.dot(layer1_delta) * n\n",
    "    \n",
    "    error = np.mean(np.abs(layer2_error))\n",
    "    errors.append(error)\n",
    "    accuracy = (1 - error) * 100\n",
    "#Se muestra un gráfico que representa el error en función del número de iteraciones durante el entrenamiento.\n",
    "plt.plot(errors)\n",
    "plt.xlabel('Training')\n",
    "plt.ylabel('Error')\n",
    "plt.show()\n",
    "#Se imprime la precisión del modelo, que se calcula como 1 menos el error promedio,\n",
    "#redondeado a 2 decimales y expresado como porcentaje.        \n",
    "print(\"Precision \" + str(round(accuracy,2)) + \"%\")"
   ]
  },
  {
   "cell_type": "markdown",
   "id": "c3f911d5",
   "metadata": {},
   "source": [
    "evalúa el rendimiento del modelo entrenado en el conjunto de prueba\n",
    "y muestra la precisión del modelo en términos de porcentaje."
   ]
  },
  {
   "cell_type": "code",
   "execution_count": 30,
   "id": "682efaa1",
   "metadata": {},
   "outputs": [
    {
     "name": "stdout",
     "output_type": "stream",
     "text": [
      "Precision 91.82%\n"
     ]
    },
    {
     "name": "stderr",
     "output_type": "stream",
     "text": [
      "C:\\Users\\Progra\\AppData\\Local\\Temp\\ipykernel_14560\\7552734.py:2: RuntimeWarning: overflow encountered in exp\n",
      "  return 1/(1+np.exp(-x))\n"
     ]
    }
   ],
   "source": [
    "layer0 = X_test\n",
    "layer1 = sigmoid(np.dot(layer0, w0))\n",
    "layer2 = sigmoid(np.dot(layer1, w1))\n",
    "\n",
    "layer2_error = y_test - layer2\n",
    "\n",
    "error = np.mean(np.abs(layer2_error))\n",
    "accuracy = (1 - error) * 100\n",
    "\n",
    "print(\"Precision \" + str(round(accuracy,2)) + \"%\")"
   ]
  }
 ],
 "metadata": {
  "kernelspec": {
   "display_name": "Python 3 (ipykernel)",
   "language": "python",
   "name": "python3"
  },
  "language_info": {
   "codemirror_mode": {
    "name": "ipython",
    "version": 3
   },
   "file_extension": ".py",
   "mimetype": "text/x-python",
   "name": "python",
   "nbconvert_exporter": "python",
   "pygments_lexer": "ipython3",
   "version": "3.9.16"
  }
 },
 "nbformat": 4,
 "nbformat_minor": 5
}
