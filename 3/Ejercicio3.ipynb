{
 "cells": [
  {
   "cell_type": "code",
   "execution_count": 8,
   "id": "69ad6b72",
   "metadata": {},
   "outputs": [],
   "source": [
    "import numpy as np\n",
    "import random"
   ]
  },
  {
   "cell_type": "code",
   "execution_count": 9,
   "id": "1c925ddb",
   "metadata": {},
   "outputs": [],
   "source": [
    "n_cities = 5 # numerode ciudades\n",
    "n_population = 50 #tamaño de la poblacion\n",
    "mutation_rate = 0.3# tasa de mutacion"
   ]
  },
  {
   "cell_type": "markdown",
   "id": "5f2aeecc",
   "metadata": {},
   "source": [
    " lista de nombres names_list y el diccionario cities_dict. "
   ]
  },
  {
   "cell_type": "code",
   "execution_count": 10,
   "id": "5312359a",
   "metadata": {},
   "outputs": [],
   "source": [
    "names_list = np.array(['A','B','C','D','E'])\n",
    "cities_dict = {'AB':7,'BA':7,'AC':9,'CA':9,'AD':8,'DA':8,'AE':20,'EA':20,'BC':10,'CB':10,'BD':4,'DB':4,'BE':11,'EB':11,'CD':15,'DC':15,'CE':5,'EC':15,'DE':17,'ED':17}"
   ]
  },
  {
   "cell_type": "markdown",
   "id": "c7873983",
   "metadata": {},
   "source": [
    " función que calcula la distancia entre dos ciudades utilizando el diccionario cities_dict"
   ]
  },
  {
   "cell_type": "code",
   "execution_count": 11,
   "id": "792fbecc",
   "metadata": {},
   "outputs": [
    {
     "data": {
      "text/plain": [
       "{'AB': 7,\n",
       " 'BA': 7,\n",
       " 'AC': 9,\n",
       " 'CA': 9,\n",
       " 'AD': 8,\n",
       " 'DA': 8,\n",
       " 'AE': 20,\n",
       " 'EA': 20,\n",
       " 'BC': 10,\n",
       " 'CB': 10,\n",
       " 'BD': 4,\n",
       " 'DB': 4,\n",
       " 'BE': 11,\n",
       " 'EB': 11,\n",
       " 'CD': 15,\n",
       " 'DC': 15,\n",
       " 'CE': 5,\n",
       " 'EC': 15,\n",
       " 'DE': 17,\n",
       " 'ED': 17}"
      ]
     },
     "execution_count": 11,
     "metadata": {},
     "output_type": "execute_result"
    }
   ],
   "source": [
    "def distanciaentreciudades(city_a, city_b, cities_dict):\n",
    "    return cities_dict.get(city_a+city_b)\n",
    "\n",
    "cities_dict"
   ]
  },
  {
   "cell_type": "markdown",
   "id": "fa8c4fd4",
   "metadata": {},
   "source": [
    " inicializa una población de soluciones aleatorias"
   ]
  },
  {
   "cell_type": "code",
   "execution_count": 12,
   "id": "8096be1a",
   "metadata": {},
   "outputs": [
    {
     "data": {
      "text/plain": [
       "array([['A', 'D', 'E', 'C', 'B'],\n",
       "       ['E', 'A', 'B', 'C', 'D'],\n",
       "       ['D', 'B', 'A', 'E', 'C'],\n",
       "       ['D', 'E', 'C', 'A', 'B'],\n",
       "       ['C', 'A', 'B', 'E', 'D'],\n",
       "       ['E', 'C', 'A', 'B', 'D'],\n",
       "       ['E', 'D', 'B', 'C', 'A'],\n",
       "       ['A', 'B', 'C', 'D', 'E'],\n",
       "       ['E', 'D', 'B', 'A', 'C'],\n",
       "       ['B', 'E', 'D', 'C', 'A'],\n",
       "       ['E', 'D', 'C', 'B', 'A'],\n",
       "       ['B', 'C', 'A', 'E', 'D'],\n",
       "       ['B', 'C', 'D', 'E', 'A'],\n",
       "       ['B', 'A', 'C', 'D', 'E'],\n",
       "       ['A', 'C', 'B', 'E', 'D'],\n",
       "       ['A', 'C', 'E', 'B', 'D'],\n",
       "       ['E', 'B', 'C', 'A', 'D'],\n",
       "       ['E', 'D', 'A', 'B', 'C'],\n",
       "       ['B', 'A', 'E', 'D', 'C'],\n",
       "       ['C', 'B', 'D', 'A', 'E'],\n",
       "       ['C', 'D', 'B', 'A', 'E'],\n",
       "       ['E', 'B', 'A', 'C', 'D'],\n",
       "       ['A', 'C', 'B', 'E', 'D'],\n",
       "       ['C', 'D', 'E', 'A', 'B'],\n",
       "       ['E', 'A', 'D', 'C', 'B'],\n",
       "       ['A', 'E', 'B', 'C', 'D'],\n",
       "       ['A', 'C', 'E', 'B', 'D'],\n",
       "       ['B', 'E', 'C', 'A', 'D'],\n",
       "       ['D', 'B', 'C', 'E', 'A'],\n",
       "       ['B', 'A', 'E', 'C', 'D'],\n",
       "       ['A', 'D', 'B', 'C', 'E'],\n",
       "       ['B', 'E', 'D', 'C', 'A'],\n",
       "       ['C', 'D', 'B', 'E', 'A'],\n",
       "       ['D', 'B', 'E', 'A', 'C'],\n",
       "       ['A', 'C', 'D', 'B', 'E'],\n",
       "       ['C', 'B', 'D', 'A', 'E'],\n",
       "       ['E', 'A', 'D', 'C', 'B'],\n",
       "       ['D', 'E', 'A', 'C', 'B'],\n",
       "       ['C', 'D', 'B', 'A', 'E'],\n",
       "       ['C', 'D', 'E', 'B', 'A'],\n",
       "       ['D', 'B', 'E', 'C', 'A'],\n",
       "       ['A', 'D', 'E', 'C', 'B'],\n",
       "       ['B', 'E', 'C', 'D', 'A'],\n",
       "       ['A', 'D', 'B', 'E', 'C'],\n",
       "       ['B', 'E', 'A', 'D', 'C'],\n",
       "       ['C', 'B', 'D', 'E', 'A'],\n",
       "       ['A', 'C', 'E', 'B', 'D'],\n",
       "       ['A', 'E', 'C', 'D', 'B'],\n",
       "       ['E', 'D', 'B', 'A', 'C'],\n",
       "       ['C', 'E', 'A', 'B', 'D']], dtype='<U1')"
      ]
     },
     "execution_count": 12,
     "metadata": {},
     "output_type": "execute_result"
    }
   ],
   "source": [
    "def inicia(city_list, n_population):\n",
    "    population_set = []\n",
    "    for i in range(n_population):\n",
    "        #Randomly generating a new solution\n",
    "        sol_i = city_list[np.random.choice(list(range(n_cities)), n_cities, replace=False)]\n",
    "        population_set.append(sol_i)\n",
    "    return np.array(population_set)\n",
    "\n",
    "population_set = inicia(names_list, n_population)\n",
    "population_set"
   ]
  },
  {
   "cell_type": "markdown",
   "id": "d1034aee",
   "metadata": {},
   "source": [
    "función que evalúa la distancia total recorrida en una lista de ciudades según el diccionario de distancias cities_dict. "
   ]
  },
  {
   "cell_type": "code",
   "execution_count": 13,
   "id": "3f92fbd0",
   "metadata": {},
   "outputs": [],
   "source": [
    "def entrenaevalua(city_list, cities_dict):\n",
    "    total = 0\n",
    "    for i in range(n_cities-1):\n",
    "        a = city_list[i]\n",
    "        b = city_list[i+1]\n",
    "        total += distanciaentreciudades(a,b, cities_dict)\n",
    "    return total"
   ]
  },
  {
   "cell_type": "markdown",
   "id": "a18044f5",
   "metadata": {},
   "source": [
    "La función todotrain toma una población de soluciones representadas por la lista population_set y el diccionario de distancias cities_dict. Luego, itera sobre todas las soluciones en population_set y calcula la aptitud (fitness) de cada solución utilizando la función entrenaevalua."
   ]
  },
  {
   "cell_type": "code",
   "execution_count": 14,
   "id": "69cd7948",
   "metadata": {},
   "outputs": [
    {
     "data": {
      "text/plain": [
       "array([50., 52., 46., 48., 44., 35., 40., 49., 37., 52., 49., 56., 62.,\n",
       "       48., 47., 29., 38., 42., 59., 42., 46., 42., 47., 59., 53., 56.,\n",
       "       29., 43., 39., 57., 27., 52., 50., 44., 39., 42., 53., 56., 46.,\n",
       "       50., 39., 50., 49., 38., 54., 51., 29., 54., 37., 36.])"
      ]
     },
     "execution_count": 14,
     "metadata": {},
     "output_type": "execute_result"
    }
   ],
   "source": [
    "def todotrain(population_set, cities_dict):\n",
    "    fitnes_list = np.zeros(n_population)\n",
    "    #Looping over all solutions computing the fitness for each solution\n",
    "    for i in  range(n_population):\n",
    "        fitnes_list[i] = entrenaevalua(population_set[i], cities_dict)\n",
    "    return fitnes_list\n",
    "\n",
    "fitnes_list = todotrain(population_set,cities_dict)\n",
    "fitnes_list  "
   ]
  },
  {
   "cell_type": "markdown",
   "id": "12de5ec8",
   "metadata": {},
   "source": [
    " realiza la selección de progenitores a partir de una población de soluciones representada por population_set y una lista de valores de aptitud (fitness) correspondientes a cada solución en fitnes_list. "
   ]
  },
  {
   "cell_type": "code",
   "execution_count": 15,
   "id": "a855ff0c",
   "metadata": {},
   "outputs": [
    {
     "data": {
      "text/plain": [
       "array(['E', 'D', 'B', 'C', 'A'], dtype='<U1')"
      ]
     },
     "execution_count": 15,
     "metadata": {},
     "output_type": "execute_result"
    }
   ],
   "source": [
    "def seleciona_progenitor(population_set,fitnes_list):\n",
    "    total_fit = fitnes_list.sum()\n",
    "    prob_list = fitnes_list/total_fit   \n",
    "    #Notice there is the chance that a progenitor. mates with oneself\n",
    "    progenitor_list_a = np.random.choice(list(range(len(population_set))), len(population_set),p=prob_list, replace=True)\n",
    "    progenitor_list_b = np.random.choice(list(range(len(population_set))), len(population_set),p=prob_list, replace=True)\n",
    "    \n",
    "    progenitor_list_a = population_set[progenitor_list_a]\n",
    "    progenitor_list_b = population_set[progenitor_list_b]\n",
    "   \n",
    "    return np.array([progenitor_list_a,progenitor_list_b])\n",
    "\n",
    "progenitor_list = seleciona_progenitor(population_set,fitnes_list)\n",
    "progenitor_list[0][2]"
   ]
  },
  {
   "cell_type": "markdown",
   "id": "20bf6d77",
   "metadata": {},
   "source": [
    " realiza la reproducción entre dos progenitores prog_a y prog_b. El resultado de la reproducción es un descendiente, que se construye seleccionando las primeras 5 ciudades de prog_a y luego agregando las ciudades de prog_b que no estén presentes en el descendiente actua"
   ]
  },
  {
   "cell_type": "code",
   "execution_count": 17,
   "id": "a888f064",
   "metadata": {},
   "outputs": [],
   "source": [
    "def padres_repro(prog_a, prog_b):\n",
    "    offspring = prog_a[0:5]\n",
    "    for city in prog_b:\n",
    "        if not city in offspring:\n",
    "            offspring = np.concatenate((offspring,[city]))\n",
    "    return offspring"
   ]
  },
  {
   "cell_type": "markdown",
   "id": "a6c4a58e",
   "metadata": {},
   "source": [
    "La función cruce_repro toma la lista progenitor_list, que contiene los progenitores seleccionados para el cruce, y realiza el cruce (crossover) entre ellos para generar una nueva población de descendientes."
   ]
  },
  {
   "cell_type": "code",
   "execution_count": 18,
   "id": "2de1d8fe",
   "metadata": {},
   "outputs": [
    {
     "data": {
      "text/plain": [
       "array(['A', 'D', 'E', 'C', 'B'], dtype='<U1')"
      ]
     },
     "execution_count": 18,
     "metadata": {},
     "output_type": "execute_result"
    }
   ],
   "source": [
    "def cruce_repro(progenitor_list):\n",
    "    new_population_set = []\n",
    "    for i in range(progenitor_list.shape[1]):\n",
    "        prog_a, prog_b = progenitor_list[0][i], progenitor_list[1][i]\n",
    "        offspring = padres_repro(prog_a, prog_b)\n",
    "        new_population_set.append(offspring)       \n",
    "    return new_population_set\n",
    "\n",
    "new_population_set = cruce_repro(progenitor_list)\n",
    "new_population_set[0]"
   ]
  },
  {
   "cell_type": "markdown",
   "id": "1c9ab153",
   "metadata": {},
   "source": [
    "mutación en un individuo offspring intercambiando dos ciudades aleatorias. La cantidad de mutaciones se determina multiplicando el número de ciudades n_cities por la tasa de mutación mutation_rate"
   ]
  },
  {
   "cell_type": "code",
   "execution_count": 19,
   "id": "dbb10b22",
   "metadata": {},
   "outputs": [
    {
     "data": {
      "text/plain": [
       "array(['A', 'D', 'E', 'C', 'B'], dtype='<U1')"
      ]
     },
     "execution_count": 19,
     "metadata": {},
     "output_type": "execute_result"
    }
   ],
   "source": [
    "def mutacion_t(offspring):\n",
    "    for q in range(int(n_cities*mutation_rate)):\n",
    "        a = np.random.randint(0,n_cities)\n",
    "        b = np.random.randint(0,n_cities)\n",
    "        offspring[a], offspring[b] = offspring[b], offspring[a]\n",
    "    return offspring\n",
    "     \n",
    "def mutate_population(new_population_set):\n",
    "    mutated_pop = []\n",
    "    for offspring in new_population_set:\n",
    "        mutated_pop.append(mutacion_t(offspring))\n",
    "    return mutated_pop\n",
    "\n",
    "mutated_pop = mutate_population(new_population_set)\n",
    "mutated_pop[0]"
   ]
  },
  {
   "cell_type": "markdown",
   "id": "ba4b105c",
   "metadata": {},
   "source": [
    " bucle de optimización que itera 10,000 veces para mejorar la solución a través de la selección, cruce y mutación de la población de soluciones."
   ]
  },
  {
   "cell_type": "code",
   "execution_count": 20,
   "id": "2844601f",
   "metadata": {},
   "outputs": [
    {
     "name": "stdout",
     "output_type": "stream",
     "text": [
      "0 25.0 45.88\n",
      "100 25.0 42.88\n",
      "200 31.0 44.42\n",
      "300 25.0 46.32\n",
      "400 27.0 44.6\n",
      "500 25.0 43.8\n",
      "600 25.0 45.38\n",
      "700 26.0 43.2\n",
      "800 27.0 45.7\n",
      "900 31.0 46.12\n",
      "1000 29.0 44.76\n",
      "1100 27.0 45.08\n",
      "1200 27.0 43.28\n",
      "1300 30.0 44.36\n",
      "1400 31.0 45.42\n",
      "1500 27.0 45.4\n",
      "1600 25.0 44.66\n",
      "1700 29.0 46.06\n",
      "1800 27.0 45.52\n",
      "1900 25.0 42.16\n",
      "2000 29.0 45.34\n",
      "2100 25.0 43.94\n",
      "2200 27.0 45.26\n",
      "2300 31.0 45.42\n",
      "2400 29.0 45.92\n",
      "2500 29.0 45.68\n",
      "2600 28.0 44.38\n",
      "2700 29.0 44.62\n",
      "2800 25.0 45.82\n",
      "2900 27.0 44.14\n",
      "3000 27.0 46.5\n",
      "3100 25.0 45.44\n",
      "3200 25.0 44.82\n",
      "3300 27.0 45.34\n",
      "3400 25.0 43.88\n",
      "3500 26.0 46.12\n",
      "3600 25.0 45.98\n",
      "3700 29.0 47.22\n",
      "3800 29.0 45.82\n",
      "3900 25.0 44.5\n",
      "4000 26.0 45.38\n",
      "4100 27.0 45.92\n",
      "4200 27.0 45.04\n",
      "4300 29.0 45.28\n",
      "4400 25.0 46.1\n",
      "4500 27.0 43.42\n",
      "4600 27.0 45.64\n",
      "4700 27.0 43.8\n",
      "4800 25.0 45.86\n",
      "4900 29.0 44.24\n",
      "5000 25.0 44.5\n",
      "5100 27.0 43.84\n",
      "5200 29.0 45.34\n",
      "5300 32.0 46.42\n",
      "5400 29.0 45.4\n",
      "5500 27.0 44.02\n",
      "5600 27.0 44.22\n",
      "5700 32.0 45.36\n",
      "5800 27.0 45.34\n",
      "5900 27.0 43.32\n",
      "6000 30.0 45.5\n",
      "6100 33.0 44.34\n",
      "6200 27.0 46.2\n",
      "6300 27.0 44.22\n",
      "6400 27.0 45.52\n",
      "6500 27.0 45.54\n",
      "6600 25.0 44.32\n",
      "6700 29.0 44.68\n",
      "6800 27.0 44.86\n",
      "6900 26.0 45.16\n",
      "7000 27.0 44.28\n",
      "7100 31.0 45.34\n",
      "7200 27.0 42.8\n",
      "7300 25.0 45.32\n",
      "7400 29.0 45.0\n",
      "7500 27.0 44.44\n",
      "7600 35.0 47.16\n",
      "7700 25.0 45.38\n",
      "7800 27.0 43.54\n",
      "7900 28.0 45.32\n",
      "8000 27.0 45.52\n",
      "8100 25.0 42.4\n",
      "8200 25.0 41.72\n",
      "8300 27.0 44.56\n",
      "8400 25.0 46.08\n",
      "8500 29.0 45.08\n",
      "8600 27.0 45.24\n",
      "8700 29.0 44.86\n",
      "8800 25.0 45.14\n",
      "8900 28.0 45.64\n",
      "9000 29.0 46.1\n",
      "9100 28.0 44.74\n",
      "9200 31.0 48.22\n",
      "9300 25.0 43.16\n",
      "9400 32.0 45.54\n",
      "9500 25.0 46.24\n",
      "9600 25.0 44.98\n",
      "9700 33.0 45.96\n",
      "9800 25.0 42.16\n",
      "9900 27.0 43.38\n"
     ]
    }
   ],
   "source": [
    "mejorSol = [-1, np.inf, np.array([])]\n",
    "for i in range(10000):\n",
    "    fitnes_list = todotrain(mutated_pop, cities_dict) \n",
    "    # Saving the best solution\n",
    "    if fitnes_list.min() < mejorSol[1]:\n",
    "        mejorSol[0] = i\n",
    "        mejorSol[1] = fitnes_list.min()\n",
    "        mejorSol[2] = np.array(mutated_pop)[fitnes_list.min() == fitnes_list]\n",
    "    \n",
    "    if i % 100 == 0:\n",
    "        print(i, fitnes_list.min(), fitnes_list.mean())\n",
    "    \n",
    "    progenitor_list = seleciona_progenitor(population_set, fitnes_list)\n",
    "    new_population_set = cruce_repro(progenitor_list)   \n",
    "    mutated_pop = mutate_population(new_population_set)"
   ]
  },
  {
   "cell_type": "markdown",
   "id": "2e3834b5",
   "metadata": {},
   "source": [
    "elbucle de arriba busca mejorar continuamente la solución a lo largo de las iteraciones y guarda la mejor solución encontrada en la variable mejorSol."
   ]
  },
  {
   "cell_type": "code",
   "execution_count": 21,
   "id": "b10e6cfa",
   "metadata": {},
   "outputs": [
    {
     "data": {
      "text/plain": [
       "[0, 25.0, array([['D', 'B', 'A', 'C', 'E']], dtype='<U1')]"
      ]
     },
     "execution_count": 21,
     "metadata": {},
     "output_type": "execute_result"
    }
   ],
   "source": [
    "mejorSol"
   ]
  },
  {
   "cell_type": "code",
   "execution_count": null,
   "id": "8272ec8f",
   "metadata": {},
   "outputs": [],
   "source": []
  }
 ],
 "metadata": {
  "kernelspec": {
   "display_name": "Python 3 (ipykernel)",
   "language": "python",
   "name": "python3"
  },
  "language_info": {
   "codemirror_mode": {
    "name": "ipython",
    "version": 3
   },
   "file_extension": ".py",
   "mimetype": "text/x-python",
   "name": "python",
   "nbconvert_exporter": "python",
   "pygments_lexer": "ipython3",
   "version": "3.9.16"
  }
 },
 "nbformat": 4,
 "nbformat_minor": 5
}
